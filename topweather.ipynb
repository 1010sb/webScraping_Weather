{
 "cells": [
  {
   "cell_type": "markdown",
   "id": "b11ad841",
   "metadata": {},
   "source": [
    "## Web Scraping: Extracting Temperature Data from www.topweather.net for Anderten Hannover"
   ]
  },
  {
   "cell_type": "code",
   "execution_count": 21,
   "id": "8e4eea68",
   "metadata": {},
   "outputs": [],
   "source": [
    "import numpy as np\n",
    "import datetime as dt\n",
    "import requests\n",
    "from bs4 import BeautifulSoup\n",
    "import re"
   ]
  },
  {
   "cell_type": "code",
   "execution_count": 22,
   "id": "807d977d",
   "metadata": {},
   "outputs": [],
   "source": [
    "url = \"https://www.topweather.net/en/weather-anderten-niedersachsen-de391710/\"\n",
    "\n",
    "# send a request to the website and get the HTML content\n",
    "response = requests.get(url)\n",
    "html_content = response.content\n"
   ]
  },
  {
   "cell_type": "code",
   "execution_count": 23,
   "id": "1677c164",
   "metadata": {},
   "outputs": [],
   "source": [
    "# parse the HTML content using BeautifulSoup\n",
    "soup = BeautifulSoup(html_content, 'html.parser')"
   ]
  },
  {
   "cell_type": "code",
   "execution_count": 24,
   "id": "c9b5f8f8",
   "metadata": {},
   "outputs": [],
   "source": [
    "# find the span element containing temperature value\n",
    "# extract temperature value from the span element\n",
    "temp = soup.find('span', {'data-unit': 'c'}).text\n",
    "temp = re.split('°', temp)\n",
    "temp = temp[0]\n",
    "temp = np.array([temp]).astype(float)"
   ]
  },
  {
   "cell_type": "code",
   "execution_count": 25,
   "id": "06e72877",
   "metadata": {},
   "outputs": [
    {
     "name": "stdout",
     "output_type": "stream",
     "text": [
      "[18.8]\n"
     ]
    },
    {
     "data": {
      "text/plain": [
       "numpy.ndarray"
      ]
     },
     "execution_count": 25,
     "metadata": {},
     "output_type": "execute_result"
    }
   ],
   "source": [
    "# print temperature value\n",
    "print(temp)\n",
    "type(temp)"
   ]
  },
  {
   "cell_type": "code",
   "execution_count": null,
   "id": "a1901959",
   "metadata": {},
   "outputs": [],
   "source": []
  }
 ],
 "metadata": {
  "kernelspec": {
   "display_name": "Python 3 (ipykernel)",
   "language": "python",
   "name": "python3"
  },
  "language_info": {
   "codemirror_mode": {
    "name": "ipython",
    "version": 3
   },
   "file_extension": ".py",
   "mimetype": "text/x-python",
   "name": "python",
   "nbconvert_exporter": "python",
   "pygments_lexer": "ipython3",
   "version": "3.9.13"
  }
 },
 "nbformat": 4,
 "nbformat_minor": 5
}
