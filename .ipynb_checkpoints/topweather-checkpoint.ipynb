{
 "cells": [
  {
   "cell_type": "markdown",
   "id": "731f67da",
   "metadata": {},
   "source": [
    "## Web Scraping: Extracting Temperature Data from www.topweather.net for Anderten Hannover"
   ]
  },
  {
   "cell_type": "code",
   "execution_count": 1,
   "id": "b7592cc4",
   "metadata": {},
   "outputs": [],
   "source": [
    "import numpy as np\n",
    "import datetime as dt\n",
    "import requests\n",
    "from bs4 import BeautifulSoup\n",
    "import re"
   ]
  },
  {
   "cell_type": "code",
   "execution_count": 2,
   "id": "a9621bca",
   "metadata": {},
   "outputs": [],
   "source": [
    "url = \"https://www.topweather.net/en/weather-anderten-niedersachsen-de391711/\"\n",
    "\n",
    "# send a request to the website and get the HTML content\n",
    "response = requests.get(url)\n",
    "html_content = response.content\n"
   ]
  },
  {
   "cell_type": "code",
   "execution_count": 3,
   "id": "f21985a9",
   "metadata": {},
   "outputs": [],
   "source": [
    "# parse the HTML content using BeautifulSoup\n",
    "soup = BeautifulSoup(html_content, 'html.parser')"
   ]
  },
  {
   "cell_type": "code",
   "execution_count": 15,
   "id": "e084b8a7",
   "metadata": {},
   "outputs": [],
   "source": [
    "# find the span element containing temperature value\n",
    "# extract temperature value from the span element\n",
    "temp = soup.find('span', {'data-unit': 'c'}).text\n",
    "temp = re.split('°', temp)\n",
    "temp = temp[0]\n",
    "temp = np.array([temp]).astype(float)"
   ]
  },
  {
   "cell_type": "code",
   "execution_count": 16,
   "id": "2e75ce34",
   "metadata": {},
   "outputs": [
    {
     "name": "stdout",
     "output_type": "stream",
     "text": [
      "[12.5]\n"
     ]
    }
   ],
   "source": [
    "# print temperature value\n",
    "print(temp)\n"
   ]
  },
  {
   "cell_type": "code",
   "execution_count": null,
   "id": "cf959566",
   "metadata": {},
   "outputs": [],
   "source": []
  }
 ],
 "metadata": {
  "kernelspec": {
   "display_name": "Python 3 (ipykernel)",
   "language": "python",
   "name": "python3"
  },
  "language_info": {
   "codemirror_mode": {
    "name": "ipython",
    "version": 3
   },
   "file_extension": ".py",
   "mimetype": "text/x-python",
   "name": "python",
   "nbconvert_exporter": "python",
   "pygments_lexer": "ipython3",
   "version": "3.9.13"
  }
 },
 "nbformat": 4,
 "nbformat_minor": 5
}
