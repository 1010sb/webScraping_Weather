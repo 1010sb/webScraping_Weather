{
 "cells": [
  {
   "cell_type": "markdown",
   "id": "7c4e7f93",
   "metadata": {},
   "source": [
    "## Web Scraping: Extracting Temperature Data from https://de.euronews.com/ for Langenhagen, Hannover"
   ]
  },
  {
   "cell_type": "code",
   "execution_count": 3,
   "id": "e335dde0",
   "metadata": {},
   "outputs": [],
   "source": [
    "import numpy as np\n",
    "import datetime as dt\n",
    "import requests\n",
    "from bs4 import BeautifulSoup\n",
    "import re\n",
    "\n",
    "# URL of the website to scrape\n",
    "url = 'https://de.euronews.com/wetter/europa/deutschland/langenhagen'"
   ]
  },
  {
   "cell_type": "code",
   "execution_count": 4,
   "id": "6646fa67",
   "metadata": {},
   "outputs": [],
   "source": [
    "# Send a request to the website and get the HTML content\n",
    "response = requests.get(url)\n",
    "html_content = response.content\n",
    "\n",
    "# Parse the HTML content using BeautifulSoup\n",
    "soup = BeautifulSoup(html_content, 'html.parser')"
   ]
  },
  {
   "cell_type": "code",
   "execution_count": 5,
   "id": "178e440f",
   "metadata": {},
   "outputs": [],
   "source": [
    "# Find the HTML element that contains the current temperature\n",
    "temp = soup.find('span', class_='c-current-weather__temperature unit_C ltr').text.strip().split('\\n')\n",
    "temp = temp[0]\n",
    "temp = np.array([temp]).astype(float)\n",
    "\n",
    "# Get the current date and time\n",
    "timestamp = dt.datetime.now().strftime(\"%Y-%m-%d %H:%M:%S\")"
   ]
  },
  {
   "cell_type": "code",
   "execution_count": 6,
   "id": "e6e3cabc",
   "metadata": {},
   "outputs": [
    {
     "name": "stdout",
     "output_type": "stream",
     "text": [
      "[16.]\n",
      "2023-05-18 19:27:21\n"
     ]
    }
   ],
   "source": [
    "print(temp)\n",
    "print(timestamp)"
   ]
  },
  {
   "cell_type": "code",
   "execution_count": null,
   "id": "55403e62",
   "metadata": {},
   "outputs": [],
   "source": []
  }
 ],
 "metadata": {
  "kernelspec": {
   "display_name": "Python 3 (ipykernel)",
   "language": "python",
   "name": "python3"
  },
  "language_info": {
   "codemirror_mode": {
    "name": "ipython",
    "version": 3
   },
   "file_extension": ".py",
   "mimetype": "text/x-python",
   "name": "python",
   "nbconvert_exporter": "python",
   "pygments_lexer": "ipython3",
   "version": "3.9.13"
  }
 },
 "nbformat": 4,
 "nbformat_minor": 5
}
