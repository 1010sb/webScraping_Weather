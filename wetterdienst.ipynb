{
 "cells": [
  {
   "cell_type": "markdown",
   "id": "bb7f2764",
   "metadata": {},
   "source": [
    "## Web Scraping: Extracting Temperature Data from www.wetterdienst.de for Garbsen, Hannover"
   ]
  },
  {
   "cell_type": "code",
   "execution_count": 1,
   "id": "18c85feb",
   "metadata": {},
   "outputs": [],
   "source": [
    "import numpy as np\n",
    "import datetime as dt\n",
    "import requests\n",
    "from bs4 import BeautifulSoup\n",
    "import re\n",
    "\n",
    "# URL of the website to scrape\n",
    "url = 'https://www.wetterdienst.de/Deutschlandwetter/Garbsen/Aktuell/'\n",
    "\n",
    "# Send a request to the website and get the HTML content\n",
    "response = requests.get(url)\n",
    "html_content = response.content\n",
    "\n",
    "# Parse the HTML content using BeautifulSoup\n",
    "soup = BeautifulSoup(html_content, 'html.parser')"
   ]
  },
  {
   "cell_type": "code",
   "execution_count": 2,
   "id": "8f7bf526",
   "metadata": {},
   "outputs": [],
   "source": [
    "# Find the HTML element that contains the current temperature\n",
    "# split text to only store the temperature as a float\n",
    "# data scraped = temperature in °C\n",
    "temp = soup.find(class_='vorhersage_schrift2', id='temp_1').text.split('\\n')[2]\n",
    "temp = re.split('[:°]', temp)\n",
    "temp = temp[1]\n",
    "temp = np.array([temp]).astype(float)\n",
    "\n",
    "# Get the current date and time\n",
    "timestamp = dt.datetime.now().strftime(\"%Y-%m-%d %H:%M:%S\")\n"
   ]
  },
  {
   "cell_type": "code",
   "execution_count": 3,
   "id": "a676f9d9",
   "metadata": {},
   "outputs": [
    {
     "name": "stdout",
     "output_type": "stream",
     "text": [
      "[15.7]\n",
      "2023-05-18 19:27:56\n"
     ]
    }
   ],
   "source": [
    "print(temp)\n",
    "print(timestamp)"
   ]
  },
  {
   "cell_type": "code",
   "execution_count": null,
   "id": "26e99dde",
   "metadata": {},
   "outputs": [],
   "source": []
  }
 ],
 "metadata": {
  "kernelspec": {
   "display_name": "Python 3 (ipykernel)",
   "language": "python",
   "name": "python3"
  },
  "language_info": {
   "codemirror_mode": {
    "name": "ipython",
    "version": 3
   },
   "file_extension": ".py",
   "mimetype": "text/x-python",
   "name": "python",
   "nbconvert_exporter": "python",
   "pygments_lexer": "ipython3",
   "version": "3.9.13"
  }
 },
 "nbformat": 4,
 "nbformat_minor": 5
}
